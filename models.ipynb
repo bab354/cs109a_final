{
 "cells": [
  {
   "cell_type": "markdown",
   "metadata": {},
   "source": [
    "#### This module will house the functions and code where we run models and try to get the highest R^squared/lowest RMSLE"
   ]
  },
  {
   "cell_type": "code",
   "execution_count": 89,
   "metadata": {},
   "outputs": [],
   "source": [
    "import pandas as pd\n",
    "import numpy as np\n",
    "import matplotlib\n",
    "from matplotlib import pyplot as plt\n",
    "import seaborn as sns\n",
    "from sklearn.model_selection import KFold\n",
    "from sklearn.linear_model import LinearRegression\n",
    "from sklearn.metrics import mean_squared_error\n",
    "from sklearn.linear_model import Lasso\n",
    "from sklearn.linear_model import Ridge\n",
    "from sklearn.neighbors import KNeighborsRegressor\n",
    "from sklearn.preprocessing import PolynomialFeatures\n",
    "from sklearn.ensemble import RandomForestRegressor\n",
    "from sklearn.ensemble import GradientBoostingRegressor\n",
    "from sklearn.ensemble import AdaBoostRegressor\n",
    "from sklearn.svm import SVR\n",
    "import warnings\n",
    "warnings.filterwarnings('ignore')\n",
    "%matplotlib inline\n",
    "sns.reset_defaults()"
   ]
  },
  {
   "cell_type": "markdown",
   "metadata": {},
   "source": [
    "### Model Rational and Project Trajectory"
   ]
  },
  {
   "cell_type": "markdown",
   "metadata": {},
   "source": [
    "We picked the crime data because its a very important prediction problem. An algorithm that can predict future murder can be a huge asset to state and local governments. Even more than knowing what next year's crime may look like, we wanted to see which variables may help predict murder. By knowing these variables, these actors could take a proactive approach to trying to predict crime.\n",
    "\n",
    "Ultimately, we focused on trying to predict the most recent year, and thus chose 2016 to be our test set.\n",
    "\n",
    "Next, we chose models. We chose to cross validate and tune hyper parameters on regression models that we used in this class: Lasso, Ridge, Random Forest, and Graident Boosting. However, we needed a baseline in order to compare it to. \n",
    "\n",
    "<u> Baseline </u>\n",
    "\n",
    "We chose a simple auto-regressive model to service as our baseline.\n",
    "\n",
    "\n",
    " $$ Murder_t = B_0 + B_1 Murder_{t-1} $$\n",
    " \n",
    "\n",
    "<u> Use of Lags and Feature Selection </u>\n",
    "\n",
    "We decided to include the previous year's number of murders as a feature. This is standard in time series prediction, but it makes us have to eliminate 2006, so our training set becomes 2007-2015.\n",
    " \n",
    " <u> Metrics </u>\n",
    " \n",
    " In order to compare models, we need a metric. We threw R<sup>2</sup> after realizing that it was inappropriate. Without any effort, we were getting extremely high R<sup>2</sup> and this is because TSS will be extremely high as it pulls a mean out of the entire sample which will vary widely by MSA. Instead we chose to compare MSE.\n",
    " \n",
    " \n",
    " <u> Hyper-parameter tuning </u>\n",
    " \n",
    " Lasso/Ridge - We will cross-validate on Lambda. Note we tried to perform scaling but this resulted in inferior performance due to the fact that if you scale on the training set (up to 2015) and apply it to 2016, those distributions aren't necessarily the same and you can't achieve a 0 mean and 1 standard deviation. As a result we chose not to normalize.\n",
    " \n",
    " Random Forest - We cross validate on the number of trees\n",
    " \n",
    " Gradient Boosting - We fixed learning rate at default of 0.1 and cross validated on the depth of each tree.\n",
    " \n",
    " \n",
    " <u> Cross Validation Strategy </u> \n",
    " \n",
    " Because we are interested in using past data to predict future data, we can't use a simple train-test split.  Instead, we implement a rolling window cross validation strategy.  This is a time-series modification of leave one out cross validation. In this iterative approach you increase the training set by one year each iteration and your validation window rolls back in time.\n",
    " \n",
    " In our context, this would mean training on 2007, validating on 2008-2015. Training on 2007-2008, validating on 2009-2015 and taking the average of the validation window at the end.\n",
    " \n",
    " However, because are focusing on predicting the most recent year, we modified the rolling window. We restricted the validation set to only be a single year, and it had to be in the range of 2010-2015. \n",
    " \n",
    " So, our modified rolling window will be:\n",
    " Train on 2007-2009 Validate on 2010\n",
    " Train on 2008-2010 Validate on 2011\n",
    " etc\n",
    " \n",
    " <u> Do early years matter </u>\n",
    " \n",
    " Finally, we also wanted to test whether earlier years (ie 2007, 2008) matter when it comes to predicting 2016. So, we run a loop where increase the first year of training set from 2007 to 2012. Within each loop we find the optimal parameter using rolling window, fit the model on the restricted training set using that best model and report test set performance. This will allow us to compare models and see how models may respond to different year ranges when predicting 2016.\n"
   ]
  },
  {
   "cell_type": "code",
   "execution_count": 90,
   "metadata": {
    "collapsed": true
   },
   "outputs": [],
   "source": [
    "#Import Data\n",
    "final_df= pd.read_json('output/final_imputed1.json')\n",
    "final_df = final_df.sort_values(['join_key', 'year'])"
   ]
  },
  {
   "cell_type": "code",
   "execution_count": 91,
   "metadata": {
    "collapsed": true
   },
   "outputs": [],
   "source": [
    "# Adding Lag murer_mans\n",
    "final_df['lag_y'] = final_df.groupby(['join_key'])['mur_mans'].shift(1)\n",
    "final_df = final_df.loc[final_df.year >= 2007, :]"
   ]
  },
  {
   "cell_type": "code",
   "execution_count": 92,
   "metadata": {
    "collapsed": true
   },
   "outputs": [],
   "source": [
    "# Don't need these variables for modeling - strings and murder derivatives\n",
    "no_model_vars = ['violent_crime', 'rate_mur_mans', 'rate_violent_crime', 'city_violent_crime',\n",
    "                  'city_mur_mans','mur_mans','state_key','join_key','MSA','largest_city','city_key']"
   ]
  },
  {
   "cell_type": "code",
   "execution_count": 93,
   "metadata": {
    "scrolled": true
   },
   "outputs": [],
   "source": [
    "# Test Set will be 2015 and 2016\n",
    "final_two = final_df['year'].isin([2016])\n",
    "# Need year for indexing but don't put into model\n",
    "x_vars = final_df.columns.difference(no_model_vars)\n",
    "model_vars = [x for x in x_vars if x != 'year']\n",
    "\n",
    "y_var = 'mur_mans'\n",
    "xtrain = final_df.loc[~final_two, x_vars]\n",
    "ytrain = final_df.loc[~final_two, y_var]\n",
    "\n",
    "xtest = final_df.loc[final_two, x_vars]\n",
    "ytest = final_df.loc[final_two, y_var]\n",
    "\n",
    "# Store the One Hot Encoded Variables\n",
    "one_hot_encode_vars = [x for x in x_vars if \"MSA_\" in x or \"year_\" in x or \"state_\" in x or x == 'year']\n",
    "non_encode_vars = list(xtrain.columns.difference(one_hot_encode_vars))"
   ]
  },
  {
   "cell_type": "markdown",
   "metadata": {},
   "source": [
    "We will use a simple modified Nearest Neighbors Approach as a baseline. We will write a function \n",
    "that calculates the mse coming from predicting using the kth nearest neighbors in the training set. Since our test data is 2015 and 2016. The kth nearest neighbor prediction will be taking the average of the kth years for each MSA before 2015"
   ]
  },
  {
   "cell_type": "code",
   "execution_count": 94,
   "metadata": {
    "collapsed": true
   },
   "outputs": [],
   "source": [
    "'''\n",
    "Function\n",
    "--------\n",
    "params_vs_errors\n",
    "\n",
    "This function will take a list of parameters and a list of\n",
    "avg mse generated by those params and will plot them\n",
    "\n",
    "Parameters:\n",
    "    param_list - list of parameters\n",
    "    avg_val_errors - list of avg mse (one for each mse)\n",
    "    param_label - String Label for param\n",
    "'''\n",
    "def params_vs_avg_mse(param_list, avg_val_errors, param_label, title):\n",
    "    plt.plot(avg_val_errors)\n",
    "    plt.xlabel(param_label)\n",
    "    plt.ylabel(\"MSE\")\n",
    "    plt.title(title)\n",
    "    plt.xticks(np.arange(len(param_list)), param_list)\n",
    "    plt.show()"
   ]
  },
  {
   "cell_type": "markdown",
   "metadata": {},
   "source": [
    "#### Baseline Model -  Simple Auto-regressive Model"
   ]
  },
  {
   "cell_type": "code",
   "execution_count": 95,
   "metadata": {},
   "outputs": [
    {
     "name": "stdout",
     "output_type": "stream",
     "text": [
      "267.081681347\n",
      "264.062385406\n",
      "252.787557705\n",
      "225.988328689\n",
      "213.738421085\n",
      "199.993719312\n",
      "201.348260774\n",
      "186.280139003\n",
      "199.061177748\n"
     ]
    }
   ],
   "source": [
    "# Autoregressive model\n",
    "lin_reg = LinearRegression()\n",
    "for y in range(2006, 2015):\n",
    "    lin_reg.fit(xtrain.loc[xtrain.year > y, ['lag_y']].values, ytrain[xtrain.year > y])\n",
    "    print(mean_squared_error(ytest, lin_reg.predict(xtest.loc[:, ['lag_y']].values)))"
   ]
  },
  {
   "cell_type": "code",
   "execution_count": 66,
   "metadata": {},
   "outputs": [],
   "source": [
    "'''\n",
    "Function\n",
    "----------\n",
    "hyper_tuning\n",
    "\n",
    "This function will control which parameters we tune for each one\n",
    "of our regressor model. It takes in a string for model type and parameter\n",
    "and returns a model with that parameter set.\n",
    "\n",
    "Parameters\n",
    "\n",
    "model_type (str)  - \"LASSO\", \"RIDGE\", \"RF\", \"GB\"\n",
    "param (float) - number for hyper parameter\n",
    "'''\n",
    "def hyper_tuning(model_type, param):\n",
    "    if model_type == \"LASSO\":\n",
    "        m = Lasso(alpha=param)\n",
    "    elif model_type == \"RIDGE\":\n",
    "        m = Ridge(alpha=param)\n",
    "    elif model_type == \"RF\":\n",
    "        m = RandomForestRegressor(n_estimators=param, bootstrap=False)\n",
    "    elif model_type == \"GB\":\n",
    "        m = GradientBoostingRegressor(max_depth =param)\n",
    "    elif model_type == \"Ada\":\n",
    "        m = AdaBoostRegressor(n_estimators=param)\n",
    "    else:\n",
    "        print(\"Model type incorrectly specified\")\n",
    "    return(m)\n",
    "\n",
    "'''\n",
    "Function\n",
    "-------------\n",
    "rolling_later\n",
    "\n",
    "This function takes in a model type, and a training set and performs rolling window cross-validation window\n",
    "It also takes in a starting size for the rolling window\n",
    "\n",
    "This is a rolling window such taht validation window is 2010-2014, 2011-2014, etcc\n",
    "\n",
    "Parameters:\n",
    "model_type - \"LASSO\", \"RIDGE\", \"RF\", \"GB\"\n",
    "param_list - list of floats\n",
    "xtrain - features\n",
    "ytrain - response\n",
    "min_year - first year of training set\n",
    "train_set - df\n",
    "start_window_set\n",
    "\n",
    "Returns parameter that gave lowest mean squared error\n",
    "'''\n",
    "def rolling_later(model_type, param_list, xtrain, ytrain, min_year):\n",
    "\n",
    "    errors = []\n",
    "    for p in param_list:\n",
    "        m = hyper_tuning(model_type, p)\n",
    "        # Capture average cross validation error for this parameter\n",
    "        p_errors = []\n",
    "        min_year = xtrain['year'].min()\n",
    "        if min_year >= 2010:\n",
    "            start_val = min_year + 1\n",
    "        else:\n",
    "            start_val = 2010\n",
    "        \n",
    "        for yr in range(start_val, 2015):\n",
    "            val_index = xtrain.year >= yr\n",
    "            \n",
    "            xtr = xtrain.loc[~val_index, model_vars]\n",
    "            ytr = ytrain[~val_index]\n",
    "            \n",
    "            xval = xtrain.loc[val_index, model_vars]\n",
    "            yval = ytrain[val_index]\n",
    "            \n",
    "            m.fit(xtr, ytr)\n",
    "            num_years_in_val = 2014 - yr + 1\n",
    "            # We are going to return error divided by number of years in Val window\n",
    "            # This will put more weight when validation is later and fewer years\n",
    "            p_errors.append(mean_squared_error(yval, m.predict(xval)) / num_years_in_val)\n",
    "        # For this parameter store the average error\n",
    "        errors.append(np.mean(np.mean(p_errors)))\n",
    "    # Next I need return the best parameter\n",
    "    return(param_list[np.argmax(errors)])"
   ]
  },
  {
   "cell_type": "code",
   "execution_count": 62,
   "metadata": {},
   "outputs": [],
   "source": [
    "# Quick Function to get mse\n",
    "mse = lambda m: mean_squared_error(ytest, m.predict(xtest.loc[:, model_vars]))"
   ]
  },
  {
   "cell_type": "markdown",
   "metadata": {},
   "source": [
    "We are now testing whether dropping earlier years in the test set gives better performance. We will first find optimal performance using rolling window cross validation. Then we iterate through min years to see if we get a better test set performance if we train on more recent data"
   ]
  },
  {
   "cell_type": "code",
   "execution_count": 71,
   "metadata": {},
   "outputs": [
    {
     "name": "stdout",
     "output_type": "stream",
     "text": [
      "Dropping 2006\n",
      "LASSO\n",
      "0.1\n",
      "RIDGE\n",
      "9\n",
      "RF\n",
      "200\n",
      "GB\n",
      "3\n",
      "Ada\n",
      "150\n",
      "Dropping 2007\n",
      "LASSO\n",
      "0.1\n",
      "RIDGE\n",
      "9\n",
      "RF\n",
      "200\n",
      "GB\n",
      "4\n",
      "Ada\n",
      "150\n",
      "Dropping 2008\n",
      "LASSO\n",
      "0.5\n",
      "RIDGE\n",
      "9\n",
      "RF\n",
      "200\n",
      "GB\n",
      "4\n",
      "Ada\n",
      "100\n",
      "Dropping 2009\n",
      "LASSO\n",
      "0.1\n",
      "RIDGE\n",
      "1\n",
      "RF\n",
      "200\n",
      "GB\n",
      "4\n",
      "Ada\n",
      "100\n"
     ]
    }
   ],
   "source": [
    "# This function is going to final optimal parameter for each\n",
    "# one of our regression model and store it. It will do\n",
    "# this 6 times each each time we drop all variables <= y\n",
    "# in below loop\n",
    "# we are going to try to see if we get performance only\n",
    "# using more recent data\n",
    "param_vectors = {\"LASSO\": [0.1, 0.5, 1, 2, 5], \n",
    "                 'RIDGE': [x for x in range(1, 10)], \n",
    "                 'RF': [200], \n",
    "                 'GB': [1,2,3,4],\n",
    "                'Ada': [50, 100, 150]}\n",
    "test_errors = {\"LASSO\":[] , 'RIDGE': [] , 'RF': [], 'GB': [], 'Ada': []}\n",
    "for min_year in range(2007, 2011):\n",
    "    print(\"Dropping %i\" %(min_year - 1))\n",
    "    # Keep min_year and above\n",
    "    # first iteration 2006-\n",
    "    # secon iteration 2007-\n",
    "    drop_y = final_df.year >= min_year\n",
    "    xtrain_drop = final_df.loc[(~final_two) & (drop_y), x_vars]\n",
    "    ytrain_drop = final_df.loc[(~final_two) & (drop_y), y_var]\n",
    "    # Now Cross Validate on this year range using Rolling Window\n",
    "    # to final optimal paramter from dictionary above\n",
    "    for model in param_vectors.keys():\n",
    "        print(model)\n",
    "        best_param = rolling_later(model, \n",
    "                                   param_vectors[model],\n",
    "                                   xtrain_drop,\n",
    "                                   ytrain_drop,\n",
    "                                   min_year) \n",
    "        print(best_param)\n",
    "        best_m = hyper_tuning(model, best_param)\n",
    "        # Now fit on training set with certain years dropped and predict on the test\n",
    "        best_m.fit(xtrain_drop.loc[:, non_encode_vars], ytrain_drop)\n",
    "        test_errors[model].append(mse(best_m))"
   ]
  },
  {
   "cell_type": "code",
   "execution_count": 72,
   "metadata": {},
   "outputs": [
    {
     "data": {
      "text/plain": [
       "{'Ada': [469.14627489189951,\n",
       "  545.99509932062756,\n",
       "  345.20965222085033,\n",
       "  704.2684285818334],\n",
       " 'GB': [229.0085940532588,\n",
       "  304.73682973997126,\n",
       "  264.8036041400386,\n",
       "  294.3686378081091],\n",
       " 'LASSO': [282.74905861360031,\n",
       "  267.21987751771883,\n",
       "  275.38946029080341,\n",
       "  246.16202778771009],\n",
       " 'RF': [320.58984152843607,\n",
       "  335.42755586492882,\n",
       "  322.64944443127962,\n",
       "  480.79760633886252],\n",
       " 'RIDGE': [284.35158509534375,\n",
       "  274.56999041251413,\n",
       "  277.52340701639906,\n",
       "  256.01782539630375]}"
      ]
     },
     "execution_count": 72,
     "metadata": {},
     "output_type": "execute_result"
    }
   ],
   "source": [
    "test_errors"
   ]
  },
  {
   "cell_type": "code",
   "execution_count": 13,
   "metadata": {},
   "outputs": [
    {
     "data": {
      "image/png": "[encoded data removed]",
      "text/plain": [
       "<matplotlib.figure.Figure at 0x1598b8c7358>"
      ]
     },
     "metadata": {},
     "output_type": "display_data"
    }
   ],
   "source": [
    "fig, ax = plt.subplots(1,1, figsize=(10,6))\n",
    "for k in test_errors.keys():\n",
    "    ax.plot(test_errors[k], label=k)\n",
    "    ax.set_xlabel(\"First Year of Training Data\")\n",
    "    ax.set_ylabel(\"MSE\")\n",
    "    ax.set_xticks(np.arange(6))\n",
    "    ax.set_xticklabels( ['2007', '2008', '2009', '2010', '2011', '2012'])\n",
    "    ax.set_title(\"First year of Trai data vs Test SEt Performance\")\n",
    "    ax.legend(loc='best')\n",
    "plt.show()"
   ]
  }
 ],
 "metadata": {
  "kernelspec": {
   "display_name": "Python 3",
   "language": "python",
   "name": "python3"
  },
  "language_info": {
   "codemirror_mode": {
    "name": "ipython",
    "version": 3
   },
   "file_extension": ".py",
   "mimetype": "text/x-python",
   "name": "python",
   "nbconvert_exporter": "python",
   "pygments_lexer": "ipython3",
   "version": "3.6.1"
  }
 },
 "nbformat": 4,
 "nbformat_minor": 2
}
